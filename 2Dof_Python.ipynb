{
 "cells": [
  {
   "cell_type": "markdown",
   "metadata": {},
   "source": [
    "# 2 dof system in Python\n",
    "\n",
    "$[M]\\ddot{[x]}+[C]\\dot{[x]}+[K][x]=[F]$\n"
   ]
  },
  {
   "cell_type": "code",
   "execution_count": 15,
   "metadata": {
    "collapsed": false
   },
   "outputs": [
    {
     "data": {
      "text/plain": [
       "<matplotlib.text.Text at 0xb6272b0>"
      ]
     },
     "execution_count": 15,
     "metadata": {},
     "output_type": "execute_result"
    }
   ],
   "source": [
    "import numpy as np\n",
    "import matplotlib.pyplot as plt\n",
    "\n",
    "f=np.logspace(1,4,500)\n",
    "w=f*2*np.pi\n",
    "\n",
    "m1=10\n",
    "m2=10\n",
    "k1=1e8\n",
    "k2=1e8\n",
    "c1=1e3\n",
    "c2=1e3\n",
    "\n",
    "M=np.matrix([[m1, 0], [0, m2]])\n",
    "K=np.matrix([[k1, -k1], [-k1, k1+k2]])\n",
    "C=np.matrix([[c1, -c1], [c1, c1+c2]])\n",
    "F=np.matrix([1, 0])\n",
    "F=F.transpose()\n",
    "u=np.empty([2,0])\n",
    "\n",
    "for iw in w:\n",
    "    ut=(-iw**2*M+1j*iw*C+K).I*F\n",
    "    u=np.append(u,ut,axis=1)\n",
    "\n",
    "u=u.transpose()\n",
    "plt.loglog(f,abs(u))\n",
    "plt.show()\n",
    "plt.xlabel('Freq, Hz')\n",
    "plt.ylabel('Abs(u)')"
   ]
  },
  {
   "cell_type": "code",
   "execution_count": null,
   "metadata": {
    "collapsed": false
   },
   "outputs": [],
   "source": []
  }
 ],
 "metadata": {
  "kernelspec": {
   "display_name": "Python 3",
   "language": "python",
   "name": "python3"
  },
  "language_info": {
   "codemirror_mode": {
    "name": "ipython",
    "version": 3
   },
   "file_extension": ".py",
   "mimetype": "text/x-python",
   "name": "python",
   "nbconvert_exporter": "python",
   "pygments_lexer": "ipython3",
   "version": "3.5.1"
  }
 },
 "nbformat": 4,
 "nbformat_minor": 0
}
